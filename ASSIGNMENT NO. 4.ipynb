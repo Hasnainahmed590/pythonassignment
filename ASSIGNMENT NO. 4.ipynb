{
 "cells": [
  {
   "cell_type": "code",
   "execution_count": 8,
   "id": "d1aeba56",
   "metadata": {},
   "outputs": [
    {
     "name": "stdout",
     "output_type": "stream",
     "text": [
      "Your Sum is: 16\n"
     ]
    }
   ],
   "source": [
    "#4. Write a Python program to sum all the numeric items in a dictionary.\n",
    "\n",
    "a={1:3,2:1,3:3,4:9}\n",
    "print(\"Your Sum is:\",sum(a.values()))"
   ]
  },
  {
   "cell_type": "code",
   "execution_count": 9,
   "id": "3b89fe13",
   "metadata": {},
   "outputs": [
    {
     "name": "stdout",
     "output_type": "stream",
     "text": [
      "5\n",
      "9\n",
      "7\n"
     ]
    }
   ],
   "source": [
    "# 2. Write a program to check if there is any numeric value in list using for loop.\n",
    "\n",
    "list=[\"ahsan\",5,9,7,\"shahzaib\"]\n",
    "for i in list:\n",
    "    if(type(i)==int):\n",
    "        print(i)"
   ]
  },
  {
   "cell_type": "code",
   "execution_count": 10,
   "id": "35399908",
   "metadata": {},
   "outputs": [
    {
     "name": "stdout",
     "output_type": "stream",
     "text": [
      "the given dictionary: {'mon': 3, 'tue': 5, 'wed': 6, 'thu': 9}\n",
      "enter variable to checksat\n",
      "sat is not present.\n"
     ]
    }
   ],
   "source": [
    "# 6. Write a Python script to check if a given key already exists in a dictionary\n",
    "\n",
    "dict={\"mon\":3,\"tue\":5,\"wed\":6,\"thu\":9}\n",
    "print(\"the given dictionary:\",dict) \n",
    "key=input(\"enter variable to check\")\n",
    "if(key in dict.keys()):\n",
    "    print(key,\"is present.\")\n",
    "else:\n",
    "    print(key,\"is not present.\")\n",
    "    "
   ]
  },
  {
   "cell_type": "code",
   "execution_count": 11,
   "id": "9781ebb7",
   "metadata": {},
   "outputs": [
    {
     "name": "stdout",
     "output_type": "stream",
     "text": [
      "2 3 5 "
     ]
    }
   ],
   "source": [
    "# 5. Write a program to identify duplicate values from list.\n",
    "\n",
    "a=[1,2,3,5,2,3,4,7,9,5]\n",
    "a1=[]\n",
    "for i in a:\n",
    "    if i not in a1:\n",
    "        a1.append(i)\n",
    "    else:\n",
    "        print(i,end=\" \")\n"
   ]
  },
  {
   "cell_type": "code",
   "execution_count": 12,
   "id": "f8890646",
   "metadata": {},
   "outputs": [
    {
     "name": "stdout",
     "output_type": "stream",
     "text": [
      "{1: '20 males', 2: '10 females', 3: '10 reserved', 4: '19 males'}\n"
     ]
    }
   ],
   "source": [
    "# 3. Write a Python script to add a key to a dictionary.\n",
    "\n",
    "\n",
    "number={1:\"20 males\",2:\"10 females\",3:\"10 reserved\"}\n",
    "number[4]=\"9 childrens\"\n",
    "number[4]=\"19 males\"\n",
    "print(number)"
   ]
  },
  {
   "cell_type": "code",
   "execution_count": 13,
   "id": "6fb6b164",
   "metadata": {},
   "outputs": [
    {
     "name": "stdout",
     "output_type": "stream",
     "text": [
      "select an operation to perform\n",
      "for addition enter 1\n",
      "for subtraction enter 2\n",
      "for multiplication enter 3\n",
      "for division enter 4\n",
      "for power enter 5\n",
      "5\n",
      "enter number:5\n",
      "enter power:3\n",
      "your answer is 125.0\n"
     ]
    }
   ],
   "source": [
    "# 1. Make a calculator using Python with addition , subtraction ,multiplication ,division and power.\n",
    "\n",
    "print(\"select an operation to perform\")\n",
    "print(\"for addition enter 1\")\n",
    "print(\"for subtraction enter 2\")\n",
    "print(\"for multiplication enter 3\")\n",
    "print(\"for division enter 4\")\n",
    "print(\"for power enter 5\")\n",
    "\n",
    "opr=int(input())\n",
    "if opr==1:\n",
    "    num1=float(input(\"enter first number:\"))\n",
    "    num2=float(input(\"enter second number:\"))\n",
    "    sum=num1+num2\n",
    "    print(\"your answer is\",sum)\n",
    "\n",
    "elif opr==2: \n",
    "    num3=float(input(\"enter first number:\"))\n",
    "    num4=float(input(\"enter second number:\"))\n",
    "    sub=num3-num4\n",
    "    print(\"your answer is\",sub)\n",
    "\n",
    "elif opr==3:\n",
    "    num5=float(input(\"enter first number:\"))\n",
    "    num6=float(input(\"enter second number:\"))\n",
    "    mul=num5*num6\n",
    "    print(\"your answer is\",mul)\n",
    "    \n",
    "elif opr==4:\n",
    "    num7=float(input(\"enter first number:\"))\n",
    "    num8=float(input(\"enter second number:\"))\n",
    "    div=num7*num8\n",
    "    print(\"your answer is\",div)\n",
    "    \n",
    "elif opr==5:\n",
    "    num5=float(input(\"enter number:\"))\n",
    "    po=int(input(\"enter power:\"))\n",
    "    ans=num5**po\n",
    "    print(\"your answer is\",ans)\n",
    "else:\n",
    "    print(\"this operation is not found\")"
   ]
  },
  {
   "cell_type": "code",
   "execution_count": null,
   "id": "52563188",
   "metadata": {},
   "outputs": [],
   "source": []
  }
 ],
 "metadata": {
  "kernelspec": {
   "display_name": "Python 3",
   "language": "python",
   "name": "python3"
  },
  "language_info": {
   "codemirror_mode": {
    "name": "ipython",
    "version": 3
   },
   "file_extension": ".py",
   "mimetype": "text/x-python",
   "name": "python",
   "nbconvert_exporter": "python",
   "pygments_lexer": "ipython3",
   "version": "3.8.8"
  }
 },
 "nbformat": 4,
 "nbformat_minor": 5
}
